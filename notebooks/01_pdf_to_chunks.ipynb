{
 "cells": [
  {
   "cell_type": "code",
   "execution_count": 12,
   "metadata": {},
   "outputs": [],
   "source": [
    "import fitz\n",
    "from pathlib import Path"
   ]
  },
  {
   "cell_type": "code",
   "execution_count": 13,
   "metadata": {},
   "outputs": [],
   "source": [
    "def extract_text_from_pdf(path):\n",
    "    doc = fitz.open(path)\n",
    "    return \"\\n\".join([page.get_text() for page in doc])\n",
    "\n",
    "pdf_path = \"../data/pdf/transcription-ongc_conference2025.pdf\"\n",
    "raw_text = extract_text_from_pdf(pdf_path)"
   ]
  },
  {
   "cell_type": "code",
   "execution_count": 14,
   "metadata": {},
   "outputs": [
    {
     "name": "stdout",
     "output_type": "stream",
     "text": [
      "Total chunks: 51\n"
     ]
    },
    {
     "data": {
      "text/plain": [
       "[\"Page 1 of 21 Oil and Natural Gas Corporation Limited Investors' and Analysts' Meet 2025 Event Date, Time & Venue 03rd February, 2025, 3:30 PM, Ballroom, Hotel Taj Land Ends, Bandra West, Mumbai. Speakers: Management, ONGC Ltd. Shri Arun Kumar Singh, Chairman and CEO Shri Pankaj Kumar, Director (Production) Smt. Sushma Rawat, Director (Exploration) Shri Manish Patil, Director (HR) Shri Vivek Tongaonkar, Director (Finance) Shri Arunangshu Sarkar, Director (S&CA) Management, ONGC Group Companies Shri Rajarshi Gupta, Managing Director, ONGC Videsh Limited Shri M.S. Kamath, Managing Director, MRPL Shri Gurinder Singh, Managing Director, OPaL Q&A Participants: Shri Sharad Chandra from Mehta Securities Shri Nitin Tiwari from PhillipCapital Shri Vivekananda from Ambit Shri Puneet from HSBC Securities Shri Probal Sen from ICICI Securities Shri Vikash Jain from CLSA Moderator: Shri Prakash Joshi, GM (F&A)-Investor Relation Cell Oil and Natural Gas Corporation Limited Investors’ and Analysts’ Meet – 3rd February, 2025 Page 2 of 21 Prakash Joshi Good afternoon, ladies and gentlemen. Before we begin, please play the film of Taj Lands End for the safety briefing. Safety Briefing Film of Hotel Taj Lands End Namaste ladies and gentlemen. Welcome to the Taj Land Ends, Mumbai. Allow me to brief you about the safety procedures and guidelines of our banquet venue. We are at the Ballroom which is located at Banquet Level B. Please note that we have demarked fire exits to ensure smooth evacuation. Be kindly informed that the entire hotel is well equipped with fire safety installations. There is no mock drill planned for today. In case, an emergency is raised, kindly consider it to be an original one. In an unlikely event of an emergency please do not panic. Kindly follow the instructions of hotel staff assisting you as they are well trained to face all emergency situations. In case\",\n",
       " \"drill planned for today. In case, an emergency is raised, kindly consider it to be an original one. In an unlikely event of an emergency please do not panic. Kindly follow the instructions of hotel staff assisting you as they are well trained to face all emergency situations. In case of medical emergency, we have first-aid available in the hotel along with certified first aiders. We also have doctor available on call, if required. Kindly refrain from leaving any personal belonging unattended in the hotel premise. We assure you of the highest standards of safety and wish you a pleasant day ahead. Thank you. Prakash Joshi Ladies and gentlemen, I extend a warm greeting to all of you. The Investors’ and Analysts’ Meet is an annual event organized by ONGC, usually held after the adoption of the annual audited accounts by the ONGC Board. This year, ONGC has decided to hold the meeting after adoption of accounts of 9 months in view of major happenings that have taken place recently and activities that are in pipeline. My name is Prakash Joshi representing the Investor Relations Cell of ONGC and I'm honored to welcome the investor’s community and research analyst from various institutions and fund houses to ONGC's Investors’ & Analysts’ Meet for the year 2025. I would also like to extend a heartfelt welcome to the esteemed Chairperson of the ONGC Group of Companies, the Directors on the Board of ONGC, including the Managing Directors of MRPL, OVL, OPaL as well as the Directors from our subsidiaries OVL, MRPL, and OPaL. Furthermore, I extend my warm greetings to all the senior officers and colleagues present here today. Allow me to introduce the distinguished individuals on the stage: seated at the center Shri Arun Kumar Singh, Chairman and CEO of the\"]"
      ]
     },
     "execution_count": 14,
     "metadata": {},
     "output_type": "execute_result"
    }
   ],
   "source": [
    "# Chunking\n",
    "def chunk_text(text, chunk_size=300, overlap=50):\n",
    "    words = text.split()\n",
    "    chunks = []\n",
    "    for i in range(0, len(words), chunk_size - overlap):\n",
    "        chunks.append(\" \".join(words[i:i + chunk_size]))\n",
    "    return chunks\n",
    "\n",
    "chunks = chunk_text(raw_text)\n",
    "print(f\"Total chunks: {len(chunks)}\")\n",
    "chunks[:2]"
   ]
  },
  {
   "cell_type": "code",
   "execution_count": 15,
   "metadata": {},
   "outputs": [],
   "source": [
    "import json\n",
    "with open(\"../data/processed/chunks.json\", \"w\") as f:\n",
    "    json.dump(chunks, f)\n"
   ]
  }
 ],
 "metadata": {
  "kernelspec": {
   "display_name": "myenv",
   "language": "python",
   "name": "python3"
  },
  "language_info": {
   "codemirror_mode": {
    "name": "ipython",
    "version": 3
   },
   "file_extension": ".py",
   "mimetype": "text/x-python",
   "name": "python",
   "nbconvert_exporter": "python",
   "pygments_lexer": "ipython3",
   "version": "3.9.6"
  }
 },
 "nbformat": 4,
 "nbformat_minor": 2
}
