{
 "cells": [
  {
   "cell_type": "code",
   "execution_count": 4,
   "metadata": {},
   "outputs": [],
   "source": [
    "import chromadb\n",
    "from chromadb.utils.embedding_functions import OpenAIEmbeddingFunction\n",
    "\n",
    "client = chromadb.Client()\n",
    "#collection = client.create_collection(\"rag_pdf_store\")\n",
    "\n",
    "import json\n",
    "with open(\"../data/processed/chunks.json\") as f:\n",
    "    chunks = json.load(f)\n",
    "\n",
    "with open(\"../data/processed/embeddings.json\") as f:\n",
    "    embeddings = json.load(f)\n",
    "    \n",
    "# Insert chunks and embeddings\n",
    "collection.add(\n",
    "    documents=chunks,\n",
    "    embeddings=embeddings,\n",
    "    ids=[f\"chunk_{i}\" for i in range(len(chunks))]\n",
    ")\n"
   ]
  }
 ],
 "metadata": {
  "kernelspec": {
   "display_name": "myenv",
   "language": "python",
   "name": "python3"
  },
  "language_info": {
   "codemirror_mode": {
    "name": "ipython",
    "version": 3
   },
   "file_extension": ".py",
   "mimetype": "text/x-python",
   "name": "python",
   "nbconvert_exporter": "python",
   "pygments_lexer": "ipython3",
   "version": "3.9.6"
  }
 },
 "nbformat": 4,
 "nbformat_minor": 2
}
