{
 "cells": [
  {
   "cell_type": "code",
   "execution_count": 9,
   "metadata": {},
   "outputs": [],
   "source": [
    "import os\n",
    "from dotenv import load_dotenv\n",
    "\n",
    "# Load from .env\n",
    "load_dotenv()\n",
    "\n",
    "# Access key\n",
    "openai_key = os.getenv(\"OPENAI_API_KEY\")\n",
    "\n",
    "# Set it for LangChain/OpenAI\n",
    "os.environ[\"OPENAI_API_KEY\"] = openai_key\n"
   ]
  },
  {
   "cell_type": "code",
   "execution_count": 10,
   "metadata": {},
   "outputs": [
    {
     "name": "stdout",
     "output_type": "stream",
     "text": [
      "Generated 51 embeddings\n"
     ]
    }
   ],
   "source": [
    "from langchain.embeddings import OpenAIEmbeddings\n",
    "#os.environ[\"OPENAI_API_KEY\"] = \"your-key\"  # or load from .env\n",
    "\n",
    "import json\n",
    "with open(\"../data/processed/chunks.json\") as f:\n",
    "    chunks = json.load(f)\n",
    "\n",
    "\n",
    "embedder = OpenAIEmbeddings()\n",
    "embeddings = embedder.embed_documents(chunks)\n",
    "\n",
    "print(f\"Generated {len(embeddings)} embeddings\")\n",
    "\n",
    "with open(\"../data/processed/embeddings.json\", \"w\") as f:\n",
    "    json.dump(embeddings, f)\n"
   ]
  }
 ],
 "metadata": {
  "kernelspec": {
   "display_name": "myenv",
   "language": "python",
   "name": "python3"
  },
  "language_info": {
   "codemirror_mode": {
    "name": "ipython",
    "version": 3
   },
   "file_extension": ".py",
   "mimetype": "text/x-python",
   "name": "python",
   "nbconvert_exporter": "python",
   "pygments_lexer": "ipython3",
   "version": "3.9.6"
  }
 },
 "nbformat": 4,
 "nbformat_minor": 2
}
